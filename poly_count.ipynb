{
 "cells": [
  {
   "cell_type": "markdown",
   "id": "fc1eb2d0-ac68-46b6-8948-430ca1be03cd",
   "metadata": {},
   "source": [
    "폴리백 수량계산\n",
    "==="
   ]
  },
  {
   "cell_type": "markdown",
   "id": "9aa0ad25-795e-46fa-9c08-2e3919db5284",
   "metadata": {},
   "source": [
    "## 수량 계산과정\n",
    "\n",
    "1. 오더번호에서 복종글자를 삭제한 항목을 만들고 리스트를 생성한다. (편의상 list_A 라고 호칭)\n",
    "1. list_A 에서 항목을 하나씩 꺼낸다. (꺼낸 항목은 편의상 A라고 호칭)\n",
    "    1. A는 3가지 경우로 나뉨 (오더번호가 3개, 2개 1개)\n",
    "        1. 오더 3개의 경우\n",
    "            1. H 복종의 지시량 * 1.02(LOSS)\n",
    "            2. 남은 2복종의 1호 ~ 15호 세부수량을 비교하여 최대값을 누적\n",
    "            3. 합계\n",
    "        1. 오더 2개의 경우\n",
    "            1. 두 오더의 1호 ~ 15호 세부수량을 비교하여 최대값을 누적\n",
    "        1. 오더 1개의 경우\n",
    "            1. 지시량 * 1.02(LOSS)"
   ]
  },
  {
   "cell_type": "markdown",
   "id": "68f33e52-8c48-48ed-bbc5-83be5886cbd5",
   "metadata": {},
   "source": [
    "## ERP에서 자료 가져오기"
   ]
  },
  {
   "cell_type": "code",
   "execution_count": 1,
   "id": "136d239e-d68e-4771-8b89-d809fe481955",
   "metadata": {},
   "outputs": [],
   "source": [
    "from sqlalchemy import create_engine\n",
    "import pandas as pd\n",
    "import numpy as np\n",
    "import binascii   # 한글 변환에 필요한 라이브러리\n",
    "import sys\n",
    "import math\n",
    "import pyautogui\n",
    "from datetime import datetime"
   ]
  },
  {
   "cell_type": "code",
   "execution_count": 2,
   "id": "11d47360-9e42-4a8d-b609-a8dd9b91f1fe",
   "metadata": {},
   "outputs": [],
   "source": [
    "sys.path.append('/settings')\n",
    "import config\n",
    "\n",
    "def connect_db(sid: str) -> 'sqlalchemy.engine.base.Engine':\n",
    "    if sid != config.COMPANY_DB_CONFIG['sid']:\n",
    "        raise ValueError(\"DB 를 찾을 수 없습니다.\")\n",
    "    \n",
    "    conn = create_engine(\n",
    "        \"oracle+cx_oracle://{user}:{password}@{host}:{port}/{sid}?encoding=UTF-8&nencoding=UTF-8\".format(\n",
    "            user=config.COMPANY_DB_CONFIG['user'],\n",
    "            password=config.COMPANY_DB_CONFIG['password'],\n",
    "            host=config.COMPANY_DB_CONFIG['host'],\n",
    "            port=config.COMPANY_DB_CONFIG['port'],\n",
    "            sid=config.COMPANY_DB_CONFIG['sid']\n",
    "        )\n",
    "    )\n",
    "    return conn\n",
    "\n",
    "engine = connect_db('IVY')"
   ]
  },
  {
   "cell_type": "markdown",
   "id": "d1150517-a6ed-4afb-a728-73e6c81c75cf",
   "metadata": {},
   "source": [
    "## 사용자 입력값"
   ]
  },
  {
   "cell_type": "code",
   "execution_count": 3,
   "id": "6504676e-ae5d-40fa-9c8e-0ca517e93222",
   "metadata": {},
   "outputs": [],
   "source": [
    "confirm: str = pyautogui.confirm(title='알림', text='작업을 시작합니다.\\\n",
    "\\n취소하면 작업을 중단합니다.\\\n",
    "\\n\\n< 기본적용 옵션 >\\\n",
    "\\n1. 체육복 오더만 조회\\\n",
    "\\n\\n작업이 완료되면 엑셀파일을 확인하세요.')\n",
    "\n",
    "if confirm == 'Cancel':\n",
    "    sys.exit()"
   ]
  },
  {
   "cell_type": "code",
   "execution_count": 4,
   "id": "2cdee39e-8dc8-4248-acca-ed11814bf551",
   "metadata": {},
   "outputs": [],
   "source": [
    "today: str = datetime.today().strftime(\"%Y%m%d\")"
   ]
  },
  {
   "cell_type": "code",
   "execution_count": 5,
   "id": "91c26985-954e-4857-930c-6f8fa45e1da7",
   "metadata": {
    "tags": []
   },
   "outputs": [],
   "source": [
    "start_date: str = pyautogui.prompt(title='조회시작일자', text=f'조회시작일자를 입력하세요. 예 : {today}', default=today)"
   ]
  },
  {
   "cell_type": "code",
   "execution_count": 6,
   "id": "f8263990-5d21-470c-8a83-4fe54a361b60",
   "metadata": {},
   "outputs": [],
   "source": [
    "# 오입력 검증\n",
    "while True:\n",
    "    i: int = 0\n",
    "    if len(start_date) != 8:\n",
    "        i += 1\n",
    "        pyautogui.alert(title='입력오류', text='날짜는 8자리 입니다.')\n",
    "        start_date = pyautogui.prompt(title='조회시작일자', text=f'조회시작일자를 입력하세요. 예 : {today}', default=today)\n",
    "\n",
    "    if i == 0:\n",
    "        break "
   ]
  },
  {
   "cell_type": "code",
   "execution_count": 7,
   "id": "e9b0bff9-5d62-49c2-a85e-fae8a74ab694",
   "metadata": {
    "tags": []
   },
   "outputs": [],
   "source": [
    "end_date: str = pyautogui.prompt(title='조회종료일자', text=f'조회종료일자를 입력하세요. 예 : {today}', default=today)"
   ]
  },
  {
   "cell_type": "code",
   "execution_count": 8,
   "id": "234aa0b5-d5af-46b0-bb1c-50cdaf8ce662",
   "metadata": {},
   "outputs": [],
   "source": [
    "# 오입력 검증\n",
    "while True:\n",
    "    i: int = 0\n",
    "    if len(start_date) != 8:\n",
    "        i += 1\n",
    "        pyautogui.alert(title='입력오류', text='날짜는 8자리 입니다.')\n",
    "        end_date = pyautogui.prompt(title='조회종료일자', text=f'조회종료일자를 입력하세요. 예 : {today}', default=today)\n",
    "\n",
    "    if i == 0:\n",
    "        break "
   ]
  },
  {
   "cell_type": "code",
   "execution_count": 9,
   "id": "36aa4d1c-02ea-4033-82d4-028cf0f688c4",
   "metadata": {},
   "outputs": [
    {
     "data": {
      "text/plain": [
       "('2022/01/01', '2022/07/26')"
      ]
     },
     "execution_count": 9,
     "metadata": {},
     "output_type": "execute_result"
    }
   ],
   "source": [
    "start_date = start_date[:4] + '/' + start_date[4:6] + '/' + start_date[-2:]\n",
    "end_date = end_date[:4] + '/' + end_date[4:6] + '/' + end_date[-2:]\n",
    "\n",
    "start_date, end_date"
   ]
  },
  {
   "cell_type": "markdown",
   "id": "d5875f3c-e201-4682-aa25-bc4fdae62f83",
   "metadata": {
    "tags": []
   },
   "source": [
    "### 한글변환 함수\n",
    "    - SQL문의 한글 컬럼에는 다음과 같이 함수로 처리\n",
    "    - rawtohex(utl_raw.cast_to_raw(변환할 컬럼))"
   ]
  },
  {
   "cell_type": "code",
   "execution_count": 10,
   "id": "4847d29c-c6c3-4bf0-bee3-42205cacd931",
   "metadata": {},
   "outputs": [],
   "source": [
    "# US7ASCII -> CP949(완성형한글) 로 변환\n",
    "def us7ascii_to_cp949(df: pd.DataFrame) -> pd.DataFrame:\n",
    "    for index, byte_data in enumerate(df):\n",
    "        if byte_data == None: # null 값이면 패스. 안하면 변환 에러난다.\n",
    "            continue\n",
    "        byte_data = binascii.unhexlify(df[index])  # 16진수 문자열 hexstr로 표현된 바이너리 데이터를 반환. 역함수는 b2a_hex()\n",
    "        df[index] = byte_data.decode(\"cp949\")  # 바이트 변환값 -> cp949(완성형 한글) 로 변환\n",
    "    return df"
   ]
  },
  {
   "cell_type": "markdown",
   "id": "95fd5d99-d688-4267-a5d0-30d7bc3f5f47",
   "metadata": {},
   "source": [
    "## 타입오더 데이터 가져오기"
   ]
  },
  {
   "cell_type": "code",
   "execution_count": 11,
   "id": "837cc467-3f79-43ac-963c-f6fa262948b8",
   "metadata": {},
   "outputs": [],
   "source": [
    "def count_polybag() -> pd.DataFrame:\n",
    "    oracleSql: str = f'''\n",
    "SELECT rawtohex(utl_raw.cast_to_raw(tkyk_name)) tkyk_name,\n",
    "       rawtohex(utl_raw.cast_to_raw(agen_name)) agen_name,\n",
    "       rawtohex(utl_raw.cast_to_raw(sch_name))sch_name,\n",
    "       master_order,\n",
    "       master_bokjong,\n",
    "       Of_sojae_st_set(master_status,master_grade_cnt, b.bkjk_sojae_hgb, b.bkjk_sojae, b.bkjk_sojae_2h, b.bkjk_sojae_3h, s1.stand_sojae) sojae,\n",
    "       To_char(Nvl(detail_qty1,0)) no_1,\n",
    "       To_char(Nvl(detail_qty2,0)) no_2,\n",
    "       To_char(Nvl(detail_qty3,0)) no_3,\n",
    "       To_char(Nvl(detail_qty4,0)) no_4,\n",
    "       To_char(Nvl(detail_qty5,0)) no_5,\n",
    "       To_char(Nvl(detail_qty6,0)) no_6,\n",
    "       To_char(Nvl(detail_qty7,0)) no_7,\n",
    "       To_char(Nvl(detail_qty8,0)) no_8,\n",
    "       To_char(Nvl(detail_qty9,0)) no_9,\n",
    "       To_char(Nvl(detail_qty10,0)) no_10,\n",
    "       To_char(Nvl(detail_qty11,0)) no_11,\n",
    "       To_char(Nvl(detail_qty12,0)) no_12,\n",
    "       To_char(Nvl(detail_qty13,0)) no_13,\n",
    "       To_char(Nvl(detail_qty14,0)) no_14,\n",
    "       To_char(Nvl(detail_qty15,0)) no_15,\n",
    "       To_char(master_jisi_qty) jisi_qty,\n",
    "       To_char(Nvl(jts_f_qty1,0) + Nvl(jts_f_qty2,0) + Nvl(jts_f_qty3,0) + Nvl(jts_f_qty4,0) + Nvl(jts_f_qty5,0) + Nvl(jts_t_qty1,0) + Nvl(jts_t_qty2,0) + Nvl(jts_t_qty3,0) + Nvl(jts_t_qty4,0) + Nvl(jts_t_qty5,0)) t_qty,\n",
    "       To_char(fact_date,'yy/mm/dd') fact_date\n",
    "FROM   i_suju_master_t,\n",
    "       i_qty_detail_t,\n",
    "       i_tkyk_t,\n",
    "       i_agen_t,\n",
    "       i_sch_t,\n",
    "       i_suju_stand_t s1,\n",
    "       i_stand_bkjk_t b,\n",
    "       i_suju_fact_t\n",
    "WHERE  master_status >= '50'\n",
    "AND    master_tkyk = tkyk_code(+)\n",
    "AND    master_agent = agen_code(+)\n",
    "AND    master_school= sch_code(+)\n",
    "AND    detail_gbn = '2'\n",
    "AND    detail_order = master_order\n",
    "AND    fact_order = master_order\n",
    "AND    master_jaepum = 'F'\n",
    "AND    b.bkjk_squota(+) = master_squota\n",
    "AND    b.bkjk_school(+) = master_school\n",
    "AND    b.bkjk_bokjong(+) = master_bokjong\n",
    "AND    s1.stand_order(+) = master_order\n",
    "AND    s1.stand_sojae_gbn(+)= '1'\n",
    "AND    fact_date >= To_date('{start_date}','yyyy/mm/dd')\n",
    "AND    fact_date <= To_date('{end_date}','yyyy/mm/dd')\n",
    "ORDER BY master_order\n",
    "'''\n",
    "# AND    substr(fact_order,1,3) IN ('22F')\n",
    "    df: pd.DataFrame = pd.read_sql_query(oracleSql, engine)\n",
    "    df_temp: pd.DataFrame = df['tkyk_name'].copy()\n",
    "    df['tkyk_name'] = us7ascii_to_cp949(df_temp)\n",
    "    \n",
    "    df_temp: pd.DataFrame = df['agen_name'].copy()\n",
    "    df['agen_name'] = us7ascii_to_cp949(df_temp)\n",
    "    \n",
    "    df_temp: pd.DataFrame = df['sch_name'].copy()\n",
    "    df['sch_name'] = us7ascii_to_cp949(df_temp)\n",
    "    \n",
    "    return df"
   ]
  },
  {
   "cell_type": "code",
   "execution_count": 12,
   "id": "e1d9b5ba-a244-4f23-9632-fe1c3a8f1d1e",
   "metadata": {},
   "outputs": [],
   "source": [
    "df = count_polybag()"
   ]
  },
  {
   "cell_type": "code",
   "execution_count": 13,
   "id": "ad015d39-2f47-4ba5-a15f-f791c765b819",
   "metadata": {},
   "outputs": [],
   "source": [
    "df.columns = ['특약', '대리점명', '학교명', '오더', '복종', '소재',\n",
    "              '1호', '2호', '3호', '4호', '5호', '6호', '7호', '8호', '9호', '10호', '11호', '12호', '13호', '14호', '15호',\n",
    "              '지시량', '특이수량', '타입일']"
   ]
  },
  {
   "cell_type": "code",
   "execution_count": 14,
   "id": "e7bb87c2-ccbb-4107-a049-59ab9bf94f2e",
   "metadata": {},
   "outputs": [
    {
     "data": {
      "text/plain": [
       "특약      object\n",
       "대리점명    object\n",
       "학교명     object\n",
       "오더      object\n",
       "복종      object\n",
       "소재      object\n",
       "1호       int32\n",
       "2호       int32\n",
       "3호       int32\n",
       "4호       int32\n",
       "5호       int32\n",
       "6호       int32\n",
       "7호       int32\n",
       "8호       int32\n",
       "9호       int32\n",
       "10호      int32\n",
       "11호      int32\n",
       "12호      int32\n",
       "13호      int32\n",
       "14호      int32\n",
       "15호      int32\n",
       "지시량      int32\n",
       "특이수량     int32\n",
       "타입일     object\n",
       "dtype: object"
      ]
     },
     "execution_count": 14,
     "metadata": {},
     "output_type": "execute_result"
    }
   ],
   "source": [
    "df.iloc[:, 6:23] = df.iloc[:, 6:23].astype(int) # 데이터 타입 일괄 변경\n",
    "df.dtypes"
   ]
  },
  {
   "cell_type": "code",
   "execution_count": 15,
   "id": "c5fcf2a3-7f4c-4bff-8759-8892db12f58d",
   "metadata": {},
   "outputs": [
    {
     "data": {
      "text/plain": [
       "49"
      ]
     },
     "execution_count": 15,
     "metadata": {},
     "output_type": "execute_result"
    }
   ],
   "source": [
    "type_list = list(set(df['타입일'].tolist())) # 중복제거\n",
    "type_list.sort() # 일자별 정렬\n",
    "len(type_list)"
   ]
  },
  {
   "cell_type": "markdown",
   "id": "e2a2bf36-9b53-4f10-b8b2-0c62b2571acb",
   "metadata": {},
   "source": [
    "### 폴리백 수량 계산"
   ]
  },
  {
   "cell_type": "code",
   "execution_count": 16,
   "id": "9362677e-7985-4524-8be0-93edfde010de",
   "metadata": {},
   "outputs": [],
   "source": [
    "poly_cnt: int = 0 # 반복문 돌며 각 세부수량 누적\n",
    "df_total = pd.DataFrame() # 최종 데이터프레임\n",
    "\n",
    "for type_dt in type_list: # 타입일자별로 쪼개기\n",
    "    df_type = df[df['타입일'] == type_dt].copy()\n",
    "    df_type['오더(비교용)'] = df_type['오더'].str[:8] + df_type['오더'].str[10:] # 비교용 컬럼\n",
    "    \n",
    "    # H 복종\n",
    "    df_type_H = df_type[df_type['복종'] == 'H'].copy()\n",
    "    df_type_H['복종수'] = 1\n",
    "    df_type_H['폴리백'] = np.ceil(df_type_H['지시량'] * 1.02) # pandas에 ceil 함수가 없음. round 만 존재.\n",
    "    df_total = pd.concat([df_total, df_type_H])\n",
    "    \n",
    "    # F, W 복종\n",
    "    df_type_FW = df_type[df_type['복종'] != 'H'].copy()\n",
    "    \n",
    "    poly_list = list(set(df_type_FW['오더(비교용)'].tolist())) # 중복제거\n",
    "    \n",
    "    for p_list in poly_list:\n",
    "        df_temp = df_type_FW[df_type_FW['오더(비교용)'] == p_list].copy() # 그룹단위 반복문\n",
    "        if len(df_temp) == 2:\n",
    "            for i in range(6, 21):\n",
    "                poly_cnt = poly_cnt + df_temp.iloc[:, i].max()\n",
    "            poly_cnt = math.ceil(poly_cnt * 1.02)\n",
    "        elif len(df_temp) == 1:\n",
    "            poly_cnt = math.ceil(df_temp['지시량'] * 1.02)\n",
    "        else:\n",
    "            print(f'복종수가 {len(df_temp)}개는 처리할 수 없습니다.')\n",
    "            sys.exit()\n",
    "\n",
    "        df_temp['복종수'] = len(df_temp)\n",
    "        df_temp['폴리백'] = poly_cnt\n",
    "        \n",
    "        df_total = pd.concat([df_total, df_temp])\n",
    "\n",
    "        poly_cnt = 0 # 변수 초기화\n",
    "        poly_cnt_H = 0"
   ]
  },
  {
   "cell_type": "code",
   "execution_count": 17,
   "id": "fb110785-4d12-4a03-b589-5e794d0c78e8",
   "metadata": {},
   "outputs": [
    {
     "data": {
      "text/html": [
       "<div>\n",
       "<style scoped>\n",
       "    .dataframe tbody tr th:only-of-type {\n",
       "        vertical-align: middle;\n",
       "    }\n",
       "\n",
       "    .dataframe tbody tr th {\n",
       "        vertical-align: top;\n",
       "    }\n",
       "\n",
       "    .dataframe thead th {\n",
       "        text-align: right;\n",
       "    }\n",
       "</style>\n",
       "<table border=\"1\" class=\"dataframe\">\n",
       "  <thead>\n",
       "    <tr style=\"text-align: right;\">\n",
       "      <th></th>\n",
       "      <th>특약</th>\n",
       "      <th>대리점명</th>\n",
       "      <th>학교명</th>\n",
       "      <th>오더</th>\n",
       "      <th>복종</th>\n",
       "      <th>소재</th>\n",
       "      <th>1호</th>\n",
       "      <th>2호</th>\n",
       "      <th>3호</th>\n",
       "      <th>4호</th>\n",
       "      <th>...</th>\n",
       "      <th>12호</th>\n",
       "      <th>13호</th>\n",
       "      <th>14호</th>\n",
       "      <th>15호</th>\n",
       "      <th>지시량</th>\n",
       "      <th>특이수량</th>\n",
       "      <th>타입일</th>\n",
       "      <th>오더(비교용)</th>\n",
       "      <th>복종수</th>\n",
       "      <th>폴리백</th>\n",
       "    </tr>\n",
       "  </thead>\n",
       "  <tbody>\n",
       "    <tr>\n",
       "      <th>355</th>\n",
       "      <td>중부상권</td>\n",
       "      <td>일산점</td>\n",
       "      <td>백석중(일산)</td>\n",
       "      <td>22NAA090H 2</td>\n",
       "      <td>H</td>\n",
       "      <td>HCM0991</td>\n",
       "      <td>0</td>\n",
       "      <td>2</td>\n",
       "      <td>6</td>\n",
       "      <td>8</td>\n",
       "      <td>...</td>\n",
       "      <td>0</td>\n",
       "      <td>0</td>\n",
       "      <td>0</td>\n",
       "      <td>0</td>\n",
       "      <td>32</td>\n",
       "      <td>0</td>\n",
       "      <td>22/01/05</td>\n",
       "      <td>22NAA0902</td>\n",
       "      <td>1</td>\n",
       "      <td>33.0</td>\n",
       "    </tr>\n",
       "    <tr>\n",
       "      <th>555</th>\n",
       "      <td>중부상권</td>\n",
       "      <td>안산점</td>\n",
       "      <td>신길중</td>\n",
       "      <td>22NAA617W 1</td>\n",
       "      <td>W</td>\n",
       "      <td>HCR0204</td>\n",
       "      <td>0</td>\n",
       "      <td>0</td>\n",
       "      <td>2</td>\n",
       "      <td>6</td>\n",
       "      <td>...</td>\n",
       "      <td>0</td>\n",
       "      <td>0</td>\n",
       "      <td>0</td>\n",
       "      <td>0</td>\n",
       "      <td>40</td>\n",
       "      <td>0</td>\n",
       "      <td>22/01/05</td>\n",
       "      <td>22NAA6171</td>\n",
       "      <td>2</td>\n",
       "      <td>41.0</td>\n",
       "    </tr>\n",
       "    <tr>\n",
       "      <th>554</th>\n",
       "      <td>중부상권</td>\n",
       "      <td>안산점</td>\n",
       "      <td>신길중</td>\n",
       "      <td>22NAA617F 1</td>\n",
       "      <td>F</td>\n",
       "      <td>HCR0204</td>\n",
       "      <td>0</td>\n",
       "      <td>0</td>\n",
       "      <td>2</td>\n",
       "      <td>6</td>\n",
       "      <td>...</td>\n",
       "      <td>0</td>\n",
       "      <td>0</td>\n",
       "      <td>0</td>\n",
       "      <td>0</td>\n",
       "      <td>40</td>\n",
       "      <td>0</td>\n",
       "      <td>22/01/05</td>\n",
       "      <td>22NAA6171</td>\n",
       "      <td>2</td>\n",
       "      <td>41.0</td>\n",
       "    </tr>\n",
       "    <tr>\n",
       "      <th>652</th>\n",
       "      <td>중부상권</td>\n",
       "      <td>송탄점</td>\n",
       "      <td>태광고</td>\n",
       "      <td>22NAC137W 2</td>\n",
       "      <td>W</td>\n",
       "      <td>HCR0580</td>\n",
       "      <td>0</td>\n",
       "      <td>11</td>\n",
       "      <td>7</td>\n",
       "      <td>0</td>\n",
       "      <td>...</td>\n",
       "      <td>0</td>\n",
       "      <td>0</td>\n",
       "      <td>0</td>\n",
       "      <td>0</td>\n",
       "      <td>75</td>\n",
       "      <td>0</td>\n",
       "      <td>22/01/05</td>\n",
       "      <td>22NAC1372</td>\n",
       "      <td>2</td>\n",
       "      <td>77.0</td>\n",
       "    </tr>\n",
       "    <tr>\n",
       "      <th>651</th>\n",
       "      <td>중부상권</td>\n",
       "      <td>송탄점</td>\n",
       "      <td>태광고</td>\n",
       "      <td>22NAC137F 2</td>\n",
       "      <td>F</td>\n",
       "      <td>HCR0580</td>\n",
       "      <td>0</td>\n",
       "      <td>11</td>\n",
       "      <td>7</td>\n",
       "      <td>0</td>\n",
       "      <td>...</td>\n",
       "      <td>0</td>\n",
       "      <td>0</td>\n",
       "      <td>0</td>\n",
       "      <td>0</td>\n",
       "      <td>75</td>\n",
       "      <td>0</td>\n",
       "      <td>22/01/05</td>\n",
       "      <td>22NAC1372</td>\n",
       "      <td>2</td>\n",
       "      <td>77.0</td>\n",
       "    </tr>\n",
       "    <tr>\n",
       "      <th>...</th>\n",
       "      <td>...</td>\n",
       "      <td>...</td>\n",
       "      <td>...</td>\n",
       "      <td>...</td>\n",
       "      <td>...</td>\n",
       "      <td>...</td>\n",
       "      <td>...</td>\n",
       "      <td>...</td>\n",
       "      <td>...</td>\n",
       "      <td>...</td>\n",
       "      <td>...</td>\n",
       "      <td>...</td>\n",
       "      <td>...</td>\n",
       "      <td>...</td>\n",
       "      <td>...</td>\n",
       "      <td>...</td>\n",
       "      <td>...</td>\n",
       "      <td>...</td>\n",
       "      <td>...</td>\n",
       "      <td>...</td>\n",
       "      <td>...</td>\n",
       "    </tr>\n",
       "    <tr>\n",
       "      <th>274</th>\n",
       "      <td>서울상권</td>\n",
       "      <td>서대문점</td>\n",
       "      <td>충암초등(기능성)</td>\n",
       "      <td>22FSE053W 1</td>\n",
       "      <td>W</td>\n",
       "      <td>HCR0306</td>\n",
       "      <td>0</td>\n",
       "      <td>80</td>\n",
       "      <td>60</td>\n",
       "      <td>60</td>\n",
       "      <td>...</td>\n",
       "      <td>0</td>\n",
       "      <td>0</td>\n",
       "      <td>0</td>\n",
       "      <td>0</td>\n",
       "      <td>260</td>\n",
       "      <td>0</td>\n",
       "      <td>22/07/23</td>\n",
       "      <td>22FSE0531</td>\n",
       "      <td>2</td>\n",
       "      <td>368.0</td>\n",
       "    </tr>\n",
       "    <tr>\n",
       "      <th>273</th>\n",
       "      <td>서울상권</td>\n",
       "      <td>서대문점</td>\n",
       "      <td>충암초등(기능성)</td>\n",
       "      <td>22FSE053F 1</td>\n",
       "      <td>F</td>\n",
       "      <td>HCR0306</td>\n",
       "      <td>0</td>\n",
       "      <td>90</td>\n",
       "      <td>80</td>\n",
       "      <td>80</td>\n",
       "      <td>...</td>\n",
       "      <td>0</td>\n",
       "      <td>0</td>\n",
       "      <td>0</td>\n",
       "      <td>0</td>\n",
       "      <td>360</td>\n",
       "      <td>0</td>\n",
       "      <td>22/07/23</td>\n",
       "      <td>22FSE0531</td>\n",
       "      <td>2</td>\n",
       "      <td>368.0</td>\n",
       "    </tr>\n",
       "    <tr>\n",
       "      <th>279</th>\n",
       "      <td>서울상권</td>\n",
       "      <td>서대문점</td>\n",
       "      <td>충암유치원</td>\n",
       "      <td>22FSG001W 1</td>\n",
       "      <td>W</td>\n",
       "      <td>HCR0306</td>\n",
       "      <td>0</td>\n",
       "      <td>6</td>\n",
       "      <td>30</td>\n",
       "      <td>30</td>\n",
       "      <td>...</td>\n",
       "      <td>0</td>\n",
       "      <td>0</td>\n",
       "      <td>0</td>\n",
       "      <td>0</td>\n",
       "      <td>100</td>\n",
       "      <td>0</td>\n",
       "      <td>22/07/23</td>\n",
       "      <td>22FSG0011</td>\n",
       "      <td>2</td>\n",
       "      <td>102.0</td>\n",
       "    </tr>\n",
       "    <tr>\n",
       "      <th>278</th>\n",
       "      <td>서울상권</td>\n",
       "      <td>서대문점</td>\n",
       "      <td>충암유치원</td>\n",
       "      <td>22FSG001F 1</td>\n",
       "      <td>F</td>\n",
       "      <td>HCR0306</td>\n",
       "      <td>0</td>\n",
       "      <td>6</td>\n",
       "      <td>30</td>\n",
       "      <td>30</td>\n",
       "      <td>...</td>\n",
       "      <td>0</td>\n",
       "      <td>0</td>\n",
       "      <td>0</td>\n",
       "      <td>0</td>\n",
       "      <td>100</td>\n",
       "      <td>0</td>\n",
       "      <td>22/07/23</td>\n",
       "      <td>22FSG0011</td>\n",
       "      <td>2</td>\n",
       "      <td>102.0</td>\n",
       "    </tr>\n",
       "    <tr>\n",
       "      <th>289</th>\n",
       "      <td>대구상권</td>\n",
       "      <td>수성지산점</td>\n",
       "      <td>제일중남</td>\n",
       "      <td>22FTA116W 1</td>\n",
       "      <td>W</td>\n",
       "      <td>HCM0058</td>\n",
       "      <td>0</td>\n",
       "      <td>16</td>\n",
       "      <td>42</td>\n",
       "      <td>44</td>\n",
       "      <td>...</td>\n",
       "      <td>0</td>\n",
       "      <td>0</td>\n",
       "      <td>0</td>\n",
       "      <td>0</td>\n",
       "      <td>190</td>\n",
       "      <td>0</td>\n",
       "      <td>22/07/23</td>\n",
       "      <td>22FTA1161</td>\n",
       "      <td>1</td>\n",
       "      <td>194.0</td>\n",
       "    </tr>\n",
       "  </tbody>\n",
       "</table>\n",
       "<p>2250 rows × 27 columns</p>\n",
       "</div>"
      ],
      "text/plain": [
       "       특약   대리점명        학교명           오더 복종       소재  1호  2호  3호  4호  ...  \\\n",
       "355  중부상권    일산점    백석중(일산)  22NAA090H 2  H  HCM0991   0   2   6   8  ...   \n",
       "555  중부상권    안산점        신길중  22NAA617W 1  W  HCR0204   0   0   2   6  ...   \n",
       "554  중부상권    안산점        신길중  22NAA617F 1  F  HCR0204   0   0   2   6  ...   \n",
       "652  중부상권    송탄점        태광고  22NAC137W 2  W  HCR0580   0  11   7   0  ...   \n",
       "651  중부상권    송탄점        태광고  22NAC137F 2  F  HCR0580   0  11   7   0  ...   \n",
       "..    ...    ...        ...          ... ..      ...  ..  ..  ..  ..  ...   \n",
       "274  서울상권   서대문점  충암초등(기능성)  22FSE053W 1  W  HCR0306   0  80  60  60  ...   \n",
       "273  서울상권   서대문점  충암초등(기능성)  22FSE053F 1  F  HCR0306   0  90  80  80  ...   \n",
       "279  서울상권   서대문점      충암유치원  22FSG001W 1  W  HCR0306   0   6  30  30  ...   \n",
       "278  서울상권   서대문점      충암유치원  22FSG001F 1  F  HCR0306   0   6  30  30  ...   \n",
       "289  대구상권  수성지산점       제일중남  22FTA116W 1  W  HCM0058   0  16  42  44  ...   \n",
       "\n",
       "     12호  13호  14호  15호  지시량  특이수량       타입일    오더(비교용)  복종수    폴리백  \n",
       "355    0    0    0    0   32     0  22/01/05  22NAA0902    1   33.0  \n",
       "555    0    0    0    0   40     0  22/01/05  22NAA6171    2   41.0  \n",
       "554    0    0    0    0   40     0  22/01/05  22NAA6171    2   41.0  \n",
       "652    0    0    0    0   75     0  22/01/05  22NAC1372    2   77.0  \n",
       "651    0    0    0    0   75     0  22/01/05  22NAC1372    2   77.0  \n",
       "..   ...  ...  ...  ...  ...   ...       ...        ...  ...    ...  \n",
       "274    0    0    0    0  260     0  22/07/23  22FSE0531    2  368.0  \n",
       "273    0    0    0    0  360     0  22/07/23  22FSE0531    2  368.0  \n",
       "279    0    0    0    0  100     0  22/07/23  22FSG0011    2  102.0  \n",
       "278    0    0    0    0  100     0  22/07/23  22FSG0011    2  102.0  \n",
       "289    0    0    0    0  190     0  22/07/23  22FTA1161    1  194.0  \n",
       "\n",
       "[2250 rows x 27 columns]"
      ]
     },
     "execution_count": 17,
     "metadata": {},
     "output_type": "execute_result"
    }
   ],
   "source": [
    "df_total = df_total.sort_values(['타입일', '오더(비교용)', '복종'], ascending=[True, True, False])\n",
    "df_total"
   ]
  },
  {
   "cell_type": "code",
   "execution_count": 18,
   "id": "54eabee2-4fdd-4d8c-9385-132ea7fac45d",
   "metadata": {},
   "outputs": [],
   "source": [
    "df_total = df_total.groupby(['타입일',\n",
    "                             '오더(비교용)',\n",
    "                             '특약',\n",
    "                             '대리점명',\n",
    "                             '학교명',\n",
    "                             '폴리백',\n",
    "                             '복종수',\n",
    "                             '오더',\n",
    "                             '복종',\n",
    "                             '소재',\n",
    "                             '1호',\n",
    "                             '2호',\n",
    "                             '3호',\n",
    "                             '4호',\n",
    "                             '5호',\n",
    "                             '6호',\n",
    "                             '7호',\n",
    "                             '8호',\n",
    "                             '9호',\n",
    "                             '10호',\n",
    "                             '11호',\n",
    "                             '12호',\n",
    "                             '13호',\n",
    "                             '14호',\n",
    "                             '15호',\n",
    "                             '특이수량',\n",
    "                             '지시량']).count()"
   ]
  },
  {
   "cell_type": "code",
   "execution_count": 19,
   "id": "3b1a69a1-9bba-40fc-89c9-93cb639bac50",
   "metadata": {},
   "outputs": [],
   "source": [
    "df_total = df_total.reset_index('오더(비교용)', drop=True)"
   ]
  },
  {
   "cell_type": "code",
   "execution_count": 20,
   "id": "82be5735-3ac1-4832-acc8-0a3c38172a88",
   "metadata": {},
   "outputs": [],
   "source": [
    "file_name = f'{start_date.replace(\"/\", \"\")}_{end_date.replace(\"/\", \"\")}_폴리백수량.xlsx'"
   ]
  },
  {
   "cell_type": "code",
   "execution_count": 21,
   "id": "ab7b0508-d9ac-4dab-b6f5-12deb7c8e8f2",
   "metadata": {},
   "outputs": [],
   "source": [
    "with pd.ExcelWriter(file_name, engine='xlsxwriter') as writer:\n",
    "    df_total.to_excel(writer, sheet_name='폴리백수량')"
   ]
  },
  {
   "cell_type": "markdown",
   "id": "be623701-8e46-49ca-80e3-27079cd09af7",
   "metadata": {},
   "source": [
    "## xlwings 로 파일 수정"
   ]
  },
  {
   "cell_type": "code",
   "execution_count": 22,
   "id": "d47d1585-f842-4af7-bf3f-bda8bd7d67f5",
   "metadata": {},
   "outputs": [],
   "source": [
    "import xlwings as xw"
   ]
  },
  {
   "cell_type": "code",
   "execution_count": 23,
   "id": "42d89c7e-cf9b-48ad-8064-35ce08cc84e5",
   "metadata": {},
   "outputs": [],
   "source": [
    "app = xw.App(visible=False) # 실행과정 안보이게"
   ]
  },
  {
   "cell_type": "code",
   "execution_count": 24,
   "id": "eae0020e-2578-4f1c-94b9-86526ca650b2",
   "metadata": {},
   "outputs": [],
   "source": [
    "wb = xw.Book(file_name) # type: xlwings.main.Book\n",
    "sh = wb.sheets['폴리백수량'] # type: xlwings.main.Sheet"
   ]
  },
  {
   "cell_type": "code",
   "execution_count": 25,
   "id": "aa2b4bf0-d5af-49af-add0-c8800b9f2844",
   "metadata": {},
   "outputs": [],
   "source": [
    "sh.range('1:1').delete() # 첫 행 삭제"
   ]
  },
  {
   "cell_type": "markdown",
   "id": "ecdedb45-31b3-4b97-8abf-b953c6b5733b",
   "metadata": {},
   "source": [
    "### 행 최대값, 열 최대값 구하기\n",
    "\n",
    "- expand 나 option을 폴리백 컬럼에 직접 쓰면 null 값에서 멈춘다. (3칸 나옴)\n",
    "- 모든 값이 기록된 곳에서 최대값을 구한다."
   ]
  },
  {
   "cell_type": "code",
   "execution_count": 26,
   "id": "cf3c00a0-6a90-4d5c-87e2-d63c751fdbee",
   "metadata": {},
   "outputs": [
    {
     "data": {
      "text/plain": [
       "(2251, 26)"
      ]
     },
     "execution_count": 26,
     "metadata": {},
     "output_type": "execute_result"
    }
   ],
   "source": [
    "max_row = len(sh.range('G1').expand('down').value)\n",
    "max_col = len(sh.range('A2').expand('right').value)\n",
    "max_row, max_col"
   ]
  },
  {
   "cell_type": "code",
   "execution_count": 27,
   "id": "6c65debf-a013-4ef3-a84b-1369e383a560",
   "metadata": {},
   "outputs": [],
   "source": [
    "sh.range((1, 1), (max_row, max_col)).font.bold = False # bold 없애기"
   ]
  },
  {
   "cell_type": "markdown",
   "id": "eae05eda-3cac-4eb7-b516-a8846b8b8c7d",
   "metadata": {},
   "source": [
    "### COPY and PASTE"
   ]
  },
  {
   "cell_type": "code",
   "execution_count": 28,
   "id": "ce19be48-acd7-49f3-8235-6a5e34f19a9e",
   "metadata": {},
   "outputs": [],
   "source": [
    "sh.range(f'E1:E{max_row}').copy()\n",
    "sh.range((1, max_col+1)).paste(paste='all')"
   ]
  },
  {
   "cell_type": "markdown",
   "id": "3463aec5-d4e4-4dad-bb56-dc2e91794d2a",
   "metadata": {},
   "source": [
    "### AUTOFIT"
   ]
  },
  {
   "cell_type": "code",
   "execution_count": 29,
   "id": "c018ab18-5fe2-4399-aaed-b7359ea5ce0b",
   "metadata": {},
   "outputs": [],
   "source": [
    "for ws in wb.sheets:\n",
    "    ws.autofit(axis=\"columns\")"
   ]
  },
  {
   "cell_type": "code",
   "execution_count": 30,
   "id": "53d58e71-bb0d-4057-9446-96b0a32b3c29",
   "metadata": {},
   "outputs": [],
   "source": [
    "wb.save()"
   ]
  },
  {
   "cell_type": "code",
   "execution_count": 31,
   "id": "e446e539-0b48-4238-9357-80ee655ce1f5",
   "metadata": {},
   "outputs": [],
   "source": [
    "wb.close()"
   ]
  },
  {
   "cell_type": "code",
   "execution_count": 32,
   "id": "f2f40fda-27cb-404f-9cf9-4ca609741ce7",
   "metadata": {},
   "outputs": [],
   "source": [
    "app.kill()"
   ]
  },
  {
   "cell_type": "code",
   "execution_count": 33,
   "id": "0f20c1ac-844d-4089-b6b8-0fc9eb127698",
   "metadata": {},
   "outputs": [
    {
     "data": {
      "text/plain": [
       "'OK'"
      ]
     },
     "execution_count": 33,
     "metadata": {},
     "output_type": "execute_result"
    }
   ],
   "source": [
    "pyautogui.alert(title='알림', text='작업이 종료되었습니다.\\n엑셀파일을 확인하세요.')"
   ]
  }
 ],
 "metadata": {
  "kernelspec": {
   "display_name": "Python 3 (ipykernel)",
   "language": "python",
   "name": "python3"
  },
  "language_info": {
   "codemirror_mode": {
    "name": "ipython",
    "version": 3
   },
   "file_extension": ".py",
   "mimetype": "text/x-python",
   "name": "python",
   "nbconvert_exporter": "python",
   "pygments_lexer": "ipython3",
   "version": "3.8.13"
  }
 },
 "nbformat": 4,
 "nbformat_minor": 5
}
